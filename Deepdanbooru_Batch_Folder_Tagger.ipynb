{
  "cells": [
    {
      "cell_type": "markdown",
      "metadata": {
        "id": "view-in-github",
        "colab_type": "text"
      },
      "source": [
        "<a href=\"https://colab.research.google.com/github/dhartman2007/DeepDanbooru/blob/master/Deepdanbooru_Batch_Folder_Tagger.ipynb\" target=\"_parent\"><img src=\"https://colab.research.google.com/assets/colab-badge.svg\" alt=\"Open In Colab\"/></a>"
      ]
    },
    {
      "cell_type": "code",
      "execution_count": null,
      "metadata": {
        "id": "a5bPz2ggV4-p",
        "cellView": "form"
      },
      "outputs": [],
      "source": [
        "#@markdown # Connect Google Drive\n",
        "from google.colab import drive\n",
        "from IPython.display import clear_output\n",
        "import ipywidgets as widgets\n",
        "import os\n",
        "\n",
        "def inf(msg, style, wdth): inf = widgets.Button(description=msg, disabled=True, button_style=style, layout=widgets.Layout(min_width=wdth));display(inf)\n",
        "Shared_Drive = \"\" #@param {type:\"string\"}\n",
        "#@markdown - Leave empty if you're not using a shared drive\n",
        "\n",
        "print(\"\u001b[0;33mConnecting...\")\n",
        "drive.mount('/content/gdrive')\n",
        "\n",
        "if Shared_Drive!=\"\" and os.path.exists(\"/content/gdrive/Shareddrives\"):\n",
        "  mainpth=\"Shareddrives/\"+Shared_Drive \n",
        "else:\n",
        "  mainpth=\"MyDrive\"\n",
        "\n",
        "clear_output()\n",
        "inf('\\u2714 Done','success', '50px')"
      ]
    },
    {
      "cell_type": "code",
      "execution_count": null,
      "metadata": {
        "id": "FKj4IMXPUMCE"
      },
      "outputs": [],
      "source": [
        "!git clone https://github.com/KichangKim/DeepDanbooru.git\n",
        "!pip install -e DeepDanbooru\n",
        "!pip install tensorflow-io\n",
        "!pip install tensorflow -U\n",
        "%env TF_CPP_MIN_LOG_LEVEL=2\n",
        "!wget https://github.com/KichangKim/DeepDanbooru/releases/download/v1-20191108-sgd-e30/deepdanbooru-v1-20191108-sgd-e30.zip -O model.zip\n",
        "!unzip model.zip -d model\n",
        "import os"
      ]
    },
    {
      "cell_type": "code",
      "source": [
        "# Set the path to the memes folder\n",
        "memes_folder = '/content/gdrive/MyDrive/tag/memes'\n",
        "\n",
        "from IPython.display import Image, display\n",
        "import os\n",
        "\n",
        "# Loop through all the PNG files in the memes folder\n",
        "for filename in os.listdir(memes_folder):\n",
        "  if filename.endswith('.png'):\n",
        "    # Create the input and output file paths\n",
        "    input_file = os.path.join(memes_folder, filename)\n",
        "    output_file = os.path.join(memes_folder, filename.replace('.png', '.txt'))\n",
        "    display(Image(filename=input_file))\n",
        "\n",
        "    # Evaluate the image using deepdanbooru and save the output to a text file\n",
        "    tags = []\n",
        "    with os.popen(f'python -m deepdanbooru evaluate {input_file} --threshold .4 --project-path model') as cmd_output:\n",
        "      for line in cmd_output:\n",
        "        if line.startswith('('):\n",
        "          tags.append(line.split(' ')[1].strip())\n",
        "\n",
        "    with open(output_file, 'w') as f:\n",
        "      f.write('\\n'.join(tags) + '\\n')\n"
      ],
      "metadata": {
        "id": "tUbqspFy1FH2"
      },
      "execution_count": null,
      "outputs": []
    }
  ],
  "metadata": {
    "colab": {
      "provenance": [],
      "authorship_tag": "ABX9TyMvIjt5F+WX9NfP3v3iijqs",
      "include_colab_link": true
    },
    "kernelspec": {
      "display_name": "Python 3",
      "name": "python3"
    },
    "language_info": {
      "name": "python"
    }
  },
  "nbformat": 4,
  "nbformat_minor": 0
}